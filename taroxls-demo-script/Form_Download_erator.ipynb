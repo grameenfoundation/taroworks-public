{
  "cells": [
    {
      "cell_type": "markdown",
      "metadata": {
        "id": "zQAqxQYKmiyn"
      },
      "source": [
        "# Experimental API Download to XLSX"
      ]
    },
    {
      "cell_type": "markdown",
      "metadata": {
        "id": "Vpulmm0wmsL9"
      },
      "source": [
        "This script is a working prototype of XLSX conversion to/from the API, but is a pretty early prototype. I expect to do more work around the ID handling and generally making these forms work more like the XLSForm spec."
      ]
    },
    {
      "cell_type": "markdown",
      "metadata": {
        "id": "gayEQZhlnOtV"
      },
      "source": [
        "This script uses the newly-created form APIs to pull in all form details, based on the name to search"
      ]
    },
    {
      "cell_type": "code",
      "execution_count": null,
      "metadata": {
        "id": "aPaHZ7ckp7h8"
      },
      "outputs": [],
      "source": [
        "import http.client\n",
        "import json\n",
        "from types import SimpleNamespace\n",
        "import pandas as pd\n",
        "from urllib.parse import quote\n",
        "pd.set_option('display.max_colwidth', None)\n",
        "!pip install xlsxwriter"
      ]
    },
    {
      "attachments": {},
      "cell_type": "markdown",
      "metadata": {
        "id": "qXtvBKb4xMSe"
      },
      "source": [
        "# Org-specific stuff"
      ]
    },
    {
      "cell_type": "code",
      "execution_count": null,
      "metadata": {
        "id": "gn2NYPglnObS"
      },
      "outputs": [],
      "source": [
        "url_to_query = \"twapi-demo-dev-ed.develop.my.salesforce.com\"\n",
        "# This is the name of the form to download from salesforce\n",
        "form_name_to_download = 'Proof of Concept'\n",
        "# This is the GDrive folder to place the finished file (make sure you have a folder in GDrie that lines up)\n",
        "gdrive_folder = \"PFI TW API/\"\n",
        "# This is the name of the file to save\n",
        "fileName = 'proof-of-concept-before-translation.xlsx'"
      ]
    },
    {
      "cell_type": "markdown",
      "metadata": {
        "id": "WfDw2Jq0xSxG"
      },
      "source": [
        "# Just run all the cells below this, only change them if you know what you're doing/enjoy frustration"
      ]
    },
    {
      "cell_type": "markdown",
      "metadata": {
        "id": "l4_xwQyb1t9A"
      },
      "source": [
        "# Login to GDrive"
      ]
    },
    {
      "cell_type": "code",
      "execution_count": null,
      "metadata": {
        "id": "SJvPRXDHLYaj"
      },
      "outputs": [],
      "source": [
        "# Prepare Google Drive\n",
        "from google.colab import drive\n",
        "# Mount Google Drive so we can pull in files\n",
        "drive.mount('/content/drive')\n",
        "# Setup some directory names (helps to keep work separate)\n",
        "workingDirectory = '/content/drive/MyDrive/' + gdrive_folder"
      ]
    },
    {
      "cell_type": "markdown",
      "metadata": {
        "id": "lqUxBCRvLJ2i"
      },
      "source": [
        "# Get all form components and save in excel"
      ]
    },
    {
      "cell_type": "markdown",
      "metadata": {
        "id": "fQxjN0eBeH_p"
      },
      "source": [
        "## Get the Form ID, Form Version ID and Change Log from the form name\n",
        "\n",
        "Assume this only works for 1 form at a time, they can be squished in a separate script"
      ]
    },
    {
      "cell_type": "code",
      "execution_count": null,
      "metadata": {
        "id": "cliVJSHswTSi"
      },
      "outputs": [],
      "source": [
        "def get_oauth_token_from_login():\n",
        "    conn = http.client.HTTPSConnection(url_to_query)\n",
        "    payload = ''\n",
        "    headers = {}\n",
        "    #NOTE: This is bad security practice, normally we would want these login details to be hidden so they don't get backed up to git\n",
        "    #For simplicity of this demo, we're exposing details here\n",
        "    #TODO: before production usage, separate these variables into a JSON file that's loaded from Google Drive \n",
        "    login_url = \"/services/oauth2/token?grant_type=password&client_id=xxx&client_secret=yyy&username=www&password=aaa\"\n",
        "    conn.request(\"POST\",  login_url, payload, headers)\n",
        "    res = conn.getresponse()\n",
        "    data = res.read()\n",
        "    decoded_form_data = data.decode(\"utf-8\")\n",
        "    data_obj = json.loads(decoded_form_data, object_hook=lambda d: SimpleNamespace(**d))\n",
        "    print(data_obj)\n",
        "    return \"OAuth \" + data_obj.access_token\n"
      ]
    },
    {
      "cell_type": "code",
      "execution_count": null,
      "metadata": {
        "id": "CtAo1Tb1wJkg"
      },
      "outputs": [],
      "source": [
        "auth_header = get_oauth_token_from_login()\n",
        "print(auth_header)"
      ]
    },
    {
      "cell_type": "code",
      "execution_count": null,
      "metadata": {
        "id": "vilbNWGOpahY"
      },
      "outputs": [],
      "source": [
        "def get_python_obj_from_json_web_call(endpoint_to_hit):\n",
        "    conn = http.client.HTTPSConnection(url_to_query)\n",
        "    payload = ''\n",
        "    headers = {\n",
        "      'Authorization': auth_header,\n",
        "      'Content-Type': 'application/json',\n",
        "    }\n",
        "    conn.request(\"GET\",  endpoint_to_hit, payload, headers)\n",
        "    res = conn.getresponse()\n",
        "    data = res.read()\n",
        "    decoded_form_data = data.decode(\"utf-8\")\n",
        "    data_obj = json.loads(decoded_form_data, object_hook=lambda d: SimpleNamespace(**d))\n",
        "    return data_obj"
      ]
    },
    {
      "cell_type": "code",
      "execution_count": null,
      "metadata": {
        "id": "iCsjSTsSuUoD"
      },
      "outputs": [],
      "source": [
        "def get_pandas_dataframe_from_json_web_call(endpoint_to_hit):\n",
        "    conn = http.client.HTTPSConnection(url_to_query)\n",
        "    payload = ''\n",
        "    headers = {\n",
        "      'Authorization': auth_header,\n",
        "      'Content-Type': 'application/json',\n",
        "    }\n",
        "    conn.request(\"GET\",  endpoint_to_hit, payload, headers)\n",
        "    res = conn.getresponse()\n",
        "    data = res.read()\n",
        "    decoded_form_data = data.decode(\"utf-8\")\n",
        "    data_obj = json.loads(decoded_form_data)\n",
        "    records_dataframe = pd.json_normalize(data_obj, record_path =['records'])\n",
        "    return records_dataframe"
      ]
    },
    {
      "cell_type": "code",
      "execution_count": null,
      "metadata": {
        "id": "ZsRq8t6LYF0m"
      },
      "outputs": [],
      "source": [
        "def upload_payload_to_url(endpoint_to_upload, payload):\n",
        "      conn = http.client.HTTPSConnection(url_to_query)\n",
        "      headers = {\n",
        "        'Authorization': auth_header,\n",
        "        'Content-Type': 'application/json',\n",
        "      }\n",
        "      conn.request(\"PUT\", endpoint_to_upload, payload, headers)\n",
        "      res = conn.getresponse()\n",
        "      data = res.read()\n",
        "      print(data.decode(\"utf-8\"))"
      ]
    },
    {
      "cell_type": "code",
      "execution_count": null,
      "metadata": {
        "id": "ueQoby_6Toxw"
      },
      "outputs": [],
      "source": [
        "def get_version_changelog_from_form_name(form_name_to_download):\n",
        "    form_name_urlsafe = quote(form_name_to_download, safe='/')\n",
        "    form_endpoint = \"/services/apexrest/formdata/v1?objectType=GetFormData&name=\" + form_name_urlsafe\n",
        "    form_dataframe = get_pandas_dataframe_from_json_web_call(form_endpoint)\n",
        "    # TODO - add better error if unable to reach server/auth is out of date\n",
        "    try:\n",
        "      form_id = form_dataframe.id[0]\n",
        "      form_external_id = form_dataframe.externalId[0]\n",
        "    except: \n",
        "      print('No form matches that name')\n",
        "      return '', '', '','', None\n",
        "    # Note - this script assumes there is only 1 form matching the name\n",
        "    json_form_version = form_dataframe.formVersion[0]\n",
        "    form_version_string = str(json_form_version[0]).replace('\\'','\"')\n",
        "    form_version_json_obj = json.loads(form_version_string)\n",
        "    form_version_id = form_version_json_obj['versionid']\n",
        "    changelog_number = form_version_json_obj['changeLogNumber']\n",
        "    print('Form Version ID: ',form_version_id, ' Form ID: ', form_id, ' Changelog: ', changelog_number, ' externalID: ',form_external_id)\n",
        "    return form_version_id, changelog_number, form_id, form_external_id, form_dataframe"
      ]
    },
    {
      "cell_type": "code",
      "execution_count": null,
      "metadata": {
        "id": "OqMEzJO3m1FV"
      },
      "outputs": [],
      "source": [
        "form_version_id, changelog_number, form_id, form_external_id, form_dataframe = get_version_changelog_from_form_name(form_name_to_download)"
      ]
    },
    {
      "cell_type": "code",
      "execution_count": null,
      "metadata": {
        "id": "DgomKfenU2Lw"
      },
      "outputs": [],
      "source": [
        "form_dataframe"
      ]
    },
    {
      "cell_type": "markdown",
      "metadata": {
        "id": "v4J64hv1pNsS"
      },
      "source": [
        "## Get all Questions"
      ]
    },
    {
      "cell_type": "code",
      "execution_count": null,
      "metadata": {
        "id": "inIFdOPApDXm"
      },
      "outputs": [],
      "source": [
        "question_endpoint = \"/services/apexrest/questiondata/v1?objectType=GetQuestionData&formVersionId=\" + form_version_id\n",
        "question_dataframe = pd.DataFrame(columns=['externalId', 'id', 'name', 'caption', 'cascadingLevel',\\\n",
        "       'cascadingSelect', 'controllingQuestion', 'displayRepeatSectionInTable',\\\n",
        "       'dynamicOperation', 'dynamicOperationTestData', 'dynamicOperationType',\\\n",
        "       'exampleOfValidResponse', 'form', 'formVersion', 'hidden', 'maximum',\\\n",
        "       'minimum', 'parent', 'position', 'previousVersion', 'printAnswer',\\\n",
        "       'repeatSourceValue', 'repeatTimes', 'required', 'responseValidation',\\\n",
        "       'showAllQuestionOnOnePage', 'skipLogicBehavior', 'skipLogicOperator',\\\n",
        "       'hint', 'testDynamicOperation', 'type', 'useCurrentTimeAsDefault',\\\n",
        "       'changeLogNumber', 'options'])\n",
        "question_dataframe = pd.concat([question_dataframe,get_pandas_dataframe_from_json_web_call(question_endpoint)])"
      ]
    },
    {
      "cell_type": "code",
      "execution_count": null,
      "metadata": {
        "id": "mynVrrvUqTR4"
      },
      "outputs": [],
      "source": [
        "#Iterate all questions that have options and create a new dataframe that has just the options\n",
        "options_dataframe = pd.DataFrame(columns=[\"externalId\" , \"id\" , \"name\" , \"position\" , \"caption\",\"questionId\" ])\n",
        "for index, frame in question_dataframe.iterrows():\n",
        "    if (frame.options):\n",
        "      questionId = frame.id\n",
        "      individual_option_df = pd.read_json(str(frame.options).replace('\\'','\"'))\n",
        "      individual_option_df['questionId'] = questionId\n",
        "      options_dataframe = pd.concat([individual_option_df,options_dataframe])"
      ]
    },
    {
      "cell_type": "code",
      "execution_count": null,
      "metadata": {
        "id": "MuxsM5DKLFBD"
      },
      "outputs": [],
      "source": [
        "questions_without_options = question_dataframe.loc[:, question_dataframe.columns != 'options']"
      ]
    },
    {
      "cell_type": "code",
      "execution_count": null,
      "metadata": {
        "id": "m8SMY6_XNBpK"
      },
      "outputs": [],
      "source": [
        "parentLookup = questions_without_options[questions_without_options['parent'] == \"\"][['position','name','id']].rename(columns={'position':'parentPosition','name':'parentName','id':'parentId'})"
      ]
    },
    {
      "cell_type": "code",
      "execution_count": null,
      "metadata": {
        "id": "PcVAGgCvOvtw"
      },
      "outputs": [],
      "source": [
        "questions_with_order = questions_without_options.copy()"
      ]
    },
    {
      "cell_type": "code",
      "execution_count": null,
      "metadata": {
        "id": "a4312wGbMVWl"
      },
      "outputs": [],
      "source": [
        "hackyMultiplier = 10000 #arbitrarily large hacky multiplier\n",
        "questions_with_order['formOrder'] = questions_with_order.apply(lambda x: int(parentLookup[parentLookup['parentId'] == x['parent']]['parentPosition'].iloc[0]) * hackyMultiplier + int(x['position'])  if x['parent'] != \"\" else int(x['position']) * hackyMultiplier, axis =1 )"
      ]
    },
    {
      "cell_type": "code",
      "execution_count": null,
      "metadata": {
        "id": "Et_mgAXCPo6D"
      },
      "outputs": [],
      "source": [
        "questions_without_options = questions_with_order.sort_values(by=['formOrder']).drop(columns=['formOrder'])"
      ]
    },
    {
      "cell_type": "markdown",
      "metadata": {
        "id": "fI44Wh-Pqc9x"
      },
      "source": [
        "## Get all Form/Field Mappings"
      ]
    },
    {
      "cell_type": "code",
      "execution_count": null,
      "metadata": {
        "id": "FIQh70DuqkMD"
      },
      "outputs": [],
      "source": [
        "field_mapping_endpoint = \"/services/apexrest/formmappingdata/v1?objectType=GetFormMappingData&formVersionId=\" + form_version_id\n",
        "field_mapping_dataframe = pd.DataFrame(columns = ['externalId', 'id', 'name', 'form', 'formVersion',\\\n",
        "       'formVersionMappingField', 'mobileUserField', 'objectApiName',\\\n",
        "       'formMappingField', 'isReference', 'matchingField', 'repeat',\\\n",
        "       'submissionAPIField', 'changeLogNumber', 'questionMappings'])\n",
        "field_mapping_dataframe = pd.concat([field_mapping_dataframe,get_pandas_dataframe_from_json_web_call(field_mapping_endpoint)])"
      ]
    },
    {
      "cell_type": "code",
      "execution_count": null,
      "metadata": {
        "id": "27G-UaJkIlxk"
      },
      "outputs": [],
      "source": [
        "#Iterate all form mappings that have question mappings and create a new dataframe that has just the question mappings\n",
        "question_mapping_dataframe = pd.DataFrame(columns=[\"externalId\", \"name\", \"id\", \"fieldAPIName\",\"isBroken\",\"question\",\"scoringGroup\",\"field_mapping_id\"])\n",
        "for index, frame in field_mapping_dataframe.iterrows():\n",
        "    if (frame.questionMappings):\n",
        "      print(str(frame.questionMappings).replace('\\'','\"'))\n",
        "      field_mapping_id = frame.id\n",
        "      #JSON is case-sensitive, python apparently converts it into uppercase\n",
        "      individual_question_mapping_df = pd.read_json(str(frame.questionMappings).replace('\\'','\"').replace(\"True\",\"true\").replace(\"False\",\"false\"))\n",
        "      individual_question_mapping_df['field_mapping_id'] = field_mapping_id\n",
        "      question_mapping_dataframe = pd.concat([individual_question_mapping_df,question_mapping_dataframe])"
      ]
    },
    {
      "cell_type": "code",
      "execution_count": null,
      "metadata": {
        "id": "KIUsYYhcKq0B"
      },
      "outputs": [],
      "source": [
        "field_mapping_without_questions = field_mapping_dataframe.loc[:, field_mapping_dataframe.columns != 'questionMappings']"
      ]
    },
    {
      "cell_type": "markdown",
      "metadata": {
        "id": "mGpjWxnFrA_J"
      },
      "source": [
        "## Get All Skip Logic"
      ]
    },
    {
      "cell_type": "code",
      "execution_count": null,
      "metadata": {
        "id": "yFLpPCKfrCnk"
      },
      "outputs": [],
      "source": [
        "skip_logic_endpoint = \"/services/apexrest/skiplogicdata/v1?objectType=GetSkipLogicData&formVersionId=\" + form_version_id\n",
        "skip_logic_dataframe = pd.DataFrame(columns=[\"externalId\" ,\"id\" ,\"negate\" ,\"skipValue\" ,\"condition\" ,\"parentQuestion\" ,\"sourceQuestion\" ,\"form\" ,\"formVersion\" ,\"changeLogNumber\"])\n",
        "skip_logic_dataframe = pd.concat([skip_logic_dataframe, get_pandas_dataframe_from_json_web_call(skip_logic_endpoint)])"
      ]
    },
    {
      "cell_type": "markdown",
      "metadata": {
        "id": "3ntRnjHRreAb"
      },
      "source": [
        "## Get All Object Relationship Mapping"
      ]
    },
    {
      "cell_type": "code",
      "execution_count": null,
      "metadata": {
        "id": "9wGp_b6fr9gY"
      },
      "outputs": [],
      "source": [
        "orm_endpoint = \"/services/apexrest/objectrelationshipmappingdata/v1?objectType=GetObjectRelationshipMappingData&formVersionId=\" + form_version_id\n",
        "orm_dataframe = pd.DataFrame(columns=[\"externalId\" ,\"id\" ,\"name\" ,\"fieldApiName\" ,\"parentSurveyMapping\" ,\"childSurveyMapping\" ,\"formVersion\" ,\"changeLogNumber\"])\n",
        "orm_dataframe = pd.concat([orm_dataframe, get_pandas_dataframe_from_json_web_call(orm_endpoint)])"
      ]
    },
    {
      "cell_type": "code",
      "execution_count": null,
      "metadata": {
        "id": "3Uxf2f0xfhht"
      },
      "outputs": [],
      "source": [
        "orm_dataframe"
      ]
    },
    {
      "cell_type": "markdown",
      "metadata": {
        "id": "VZZziTTfrN0q"
      },
      "source": [
        "## Replace IDs\n",
        "Replace internal salesforce IDs + actual externalIds with computed external IDs"
      ]
    },
    {
      "cell_type": "code",
      "execution_count": null,
      "metadata": {
        "id": "dYxCsADHrdR3"
      },
      "outputs": [],
      "source": [
        "form_dataframe_id_replaced = form_dataframe.copy()\n",
        "# default to english if form doesn't already contain it\n",
        "# assume that only 1 form is present, so this should only be 1 row\n",
        "external_id_in_salesforce = form_dataframe_id_replaced['externalId'][0]\n",
        "if (not external_id_in_salesforce):\n",
        "    external_id_in_salesforce = form_dataframe_id_replaced['name'][0]\n",
        "taro_id_full = external_id_in_salesforce\n",
        "taro_id_parent_form = external_id_in_salesforce\n",
        "taro_language = 'en'\n",
        "if ('::' in external_id_in_salesforce):\n",
        "    taro_id_parent_form = external_id_in_salesforce.split('::')[0]\n",
        "    taro_language = external_id_in_salesforce.split('::')[1]\n",
        "\n",
        "print(taro_id_parent_form)\n",
        "print(taro_language)\n",
        "#remove taroId column, just use name for this\n",
        "#form_dataframe_id_replaced['taroId'] = taro_id_parent_form + '::' + taro_language\n",
        "#form_dataframe_id_replaced['changeLog'] = changelog_number\n",
        "form_dataframe_id_replaced = form_dataframe_id_replaced.drop(columns=['id','externalId','formVersion'])"
      ]
    },
    {
      "cell_type": "code",
      "execution_count": null,
      "metadata": {
        "id": "62o3bo2JuoXZ"
      },
      "outputs": [],
      "source": [
        "questions_without_options_id_replaced = questions_without_options.copy()\n",
        "questions_without_options_id_replaced = questions_without_options_id_replaced.rename(columns={'caption':'caption::'+taro_language})\n",
        "questions_id_lookup = questions_without_options_id_replaced[['id','name']].rename(columns={'name':'questionName','id':'questionId'})\n",
        "questions_without_options_id_replaced = questions_without_options_id_replaced.merge(questions_id_lookup,how=\"left\",left_on=\"parent\",right_on=\"questionId\").rename(columns={'questionName':'parentName'})\n",
        "#remove taroId column, just use name for this\n",
        "#questions_without_options_id_replaced['taroId'] = questions_without_options_id_replaced.apply(lambda x: str(x['externalId']) if x['externalId'] else x['name'], axis=1)\n",
        "questions_without_options_id_replaced.drop(columns=['externalId'],inplace=True)\n",
        "questions_without_options_id_replaced = questions_without_options_id_replaced.drop(columns=['id','changeLogNumber','form','formVersion','questionId','parent'])"
      ]
    },
    {
      "cell_type": "code",
      "execution_count": null,
      "metadata": {
        "id": "PBdMqGowvs1m"
      },
      "outputs": [],
      "source": [
        "options_dataframe_id_replaced = options_dataframe.copy()\n",
        "options_dataframe_id_replaced = options_dataframe_id_replaced.rename(columns={'caption':'caption::'+taro_language})\n",
        "options_dataframe_id_replaced = options_dataframe_id_replaced.merge(questions_id_lookup,how='left',on='questionId')\n",
        "#remove taroId column, just use name for this\n",
        "# if (not options_dataframe_id_replaced.empty):\n",
        "#     options_dataframe_id_replaced['taroId'] = options_dataframe_id_replaced.apply(lambda x: str(x['externalId']) if x['externalId'] else x['name'], axis=1)\n",
        "# else:\n",
        "#     options_dataframe_id_replaced['taroId'] = None\n",
        "options_dataframe_id_replaced.drop(columns=['externalId'],inplace=True)\n",
        "options_dataframe_id_replaced = options_dataframe_id_replaced.drop(columns=['id','questionId'])"
      ]
    },
    {
      "cell_type": "code",
      "execution_count": null,
      "metadata": {
        "id": "yFC3p1Qqzj5x"
      },
      "outputs": [],
      "source": [
        "field_mapping_without_questions_id_replaced = field_mapping_without_questions.copy()\n",
        "field_mapping_without_questions_id_replaced = field_mapping_without_questions_id_replaced.merge(questions_id_lookup,how=\"left\",left_on=\"repeat\",right_on=\"questionId\")\n",
        "field_mapping_id_lookup = field_mapping_without_questions_id_replaced[['id','name']].rename(columns={'id':'fieldMappingId','name':'fieldMappingName'})\n",
        "#remove taroId column, just use name for this\n",
        "# if (not field_mapping_without_questions_id_replaced.empty):\n",
        "#     field_mapping_without_questions_id_replaced['taroId'] = field_mapping_without_questions_id_replaced.apply(lambda x: str(x['externalId']) if x['externalId'] else x['name'], axis=1)\n",
        "# else:\n",
        "#     field_mapping_without_questions_id_replaced['taroId'] = None\n",
        "field_mapping_without_questions_id_replaced.drop(columns=['externalId'],inplace=True)\n",
        "field_mapping_without_questions_id_replaced = field_mapping_without_questions_id_replaced.drop(columns=['id','form','formVersion','changeLogNumber','repeat','questionId'])\n",
        "field_mapping_without_questions_id_replaced = field_mapping_without_questions_id_replaced.rename(columns={'questionName':'repeatQuestionName'}).fillna('')"
      ]
    },
    {
      "cell_type": "code",
      "execution_count": null,
      "metadata": {
        "id": "zOworhAqzbRs"
      },
      "outputs": [],
      "source": [
        "question_mapping_dataframe_id_replaced = question_mapping_dataframe.copy()\n",
        "question_mapping_dataframe_id_replaced = question_mapping_dataframe_id_replaced.merge(field_mapping_id_lookup,how=\"left\",left_on=\"field_mapping_id\",right_on=\"fieldMappingId\")\n",
        "question_mapping_dataframe_id_replaced = question_mapping_dataframe_id_replaced.merge(questions_id_lookup,left_on='question',right_on = 'questionId')\n",
        "#remove taroId column, just use name for this\n",
        "# if (not question_mapping_dataframe_id_replaced.empty):\n",
        "#     question_mapping_dataframe_id_replaced['taroId'] = question_mapping_dataframe_id_replaced.apply(lambda x: str(x['externalId']) if x['externalId'] else x['name'], axis=1)\n",
        "# else:\n",
        "#     question_mapping_dataframe_id_replaced['taroId'] = None\n",
        "question_mapping_dataframe_id_replaced.drop(columns=['externalId'],inplace=True)\n",
        "question_mapping_dataframe_id_replaced = question_mapping_dataframe_id_replaced.drop(columns=['id','question','fieldMappingId','field_mapping_id','questionId'])"
      ]
    },
    {
      "cell_type": "code",
      "execution_count": null,
      "metadata": {
        "id": "mi-qPunN26ps"
      },
      "outputs": [],
      "source": [
        "skip_logic_dataframe_id_replaced = skip_logic_dataframe.copy()\n",
        "skip_logic_dataframe_id_replaced = skip_logic_dataframe_id_replaced.merge(questions_id_lookup,left_on='sourceQuestion',right_on='questionId').rename(columns={'questionName':'sourceQuestionName'}).drop(columns=['questionId'])\n",
        "\n",
        "skip_logic_dataframe_id_replaced = skip_logic_dataframe_id_replaced.merge(questions_id_lookup,left_on='parentQuestion',right_on='questionId').rename(columns={'questionName':'parentQuestionName'}).drop(columns=['questionId'])\n",
        "#create a fictitious name column (external ID if it exists, join column if not)\n",
        "if (not skip_logic_dataframe_id_replaced.empty):\n",
        "    skip_logic_dataframe_id_replaced['name'] = skip_logic_dataframe_id_replaced.apply(lambda x: str(x['externalId']) if x['externalId'] else str(x['sourceQuestion']) + str(x['parentQuestion']), axis=1)\n",
        "else:\n",
        "    skip_logic_dataframe_id_replaced['name'] = None\n",
        "skip_logic_dataframe_id_replaced.drop(columns=['externalId'],inplace=True)\n",
        "#skip_logic_dataframe_id_replaced = skip_logic_dataframe_id_replaced.rename(columns = {'externalId':'taroId'})\n",
        "skip_logic_dataframe_id_replaced = skip_logic_dataframe_id_replaced.drop(columns=['id','parentQuestion','sourceQuestion','form','formVersion','changeLogNumber'])\n"
      ]
    },
    {
      "cell_type": "code",
      "execution_count": null,
      "metadata": {
        "id": "2R1h9N2s3-9b"
      },
      "outputs": [],
      "source": [
        "orm_dataframe_id_replaced = orm_dataframe.copy()\n",
        "orm_dataframe_id_replaced = orm_dataframe_id_replaced.merge(field_mapping_id_lookup.rename(columns={'fieldMappingName':'parentSurveyName'}),how='left',left_on='parentSurveyMapping',right_on='fieldMappingId').drop(columns=['fieldMappingId'])\n",
        "orm_dataframe_id_replaced = orm_dataframe_id_replaced.merge(field_mapping_id_lookup.rename(columns={'fieldMappingName':'childSurveyName'}),how='left',left_on='childSurveyMapping',right_on='fieldMappingId').drop(columns=['fieldMappingId'])\n",
        "#remove taroId column, just use name for this\n",
        "# if (not orm_dataframe_id_replaced.empty):\n",
        "#     orm_dataframe_id_replaced['taroId'] = orm_dataframe_id_replaced.apply(lambda x: str(x['externalId']) if x['externalId'] else x['name'], axis=1)\n",
        "# else: \n",
        "#   orm_dataframe_id_replaced['taroId'] = None\n",
        "orm_dataframe_id_replaced.drop(columns=['externalId'],inplace=True)\n",
        "orm_dataframe_id_replaced = orm_dataframe_id_replaced.drop(columns=['id','parentSurveyMapping','childSurveyMapping','formVersion','changeLogNumber'])\n"
      ]
    },
    {
      "cell_type": "markdown",
      "metadata": {
        "id": "UaTpXRNdtS7K"
      },
      "source": [
        "# Write an Excel Sheet"
      ]
    },
    {
      "cell_type": "code",
      "execution_count": null,
      "metadata": {
        "id": "Oevlm_3C9ybE"
      },
      "outputs": [],
      "source": [
        "form_dataframe_id_replaced"
      ]
    },
    {
      "cell_type": "code",
      "execution_count": null,
      "metadata": {
        "id": "ihY5xEiOtUxX"
      },
      "outputs": [],
      "source": [
        "writer = pd.ExcelWriter('/tmp/test.xlsx',engine='xlsxwriter')\n",
        "workbook=writer.book\n",
        "\n",
        "# https://datascience.stackexchange.com/questions/46437/how-to-write-multiple-data-frames-in-an-excel-sheet\n",
        "# form_dataframe\n",
        "# questions_without_options\n",
        "# options_dataframe\n",
        "# question_mapping_dataframe\n",
        "# field_mapping_without_questions\n",
        "# skip_logic_dataframe\n",
        "# orm_dataframe\n",
        "\n",
        "\n",
        "form_dataframe_id_replaced.to_excel(writer,sheet_name='Forms',startrow=1 , startcol=0,index=False)\n",
        "questions_without_options_id_replaced.to_excel(writer,sheet_name='Questions',startrow=1 , startcol=0,index=False)\n",
        "options_dataframe_id_replaced.to_excel(writer,sheet_name='Options',startrow=1 , startcol=0,index=False)\n",
        "question_mapping_dataframe_id_replaced.to_excel(writer,sheet_name='Question_Mappings',startrow=1 , startcol=0,index=False)\n",
        "field_mapping_without_questions_id_replaced.to_excel(writer,sheet_name='Field_Mappings',startrow=1 , startcol=0,index=False)\n",
        "skip_logic_dataframe_id_replaced.to_excel(writer,sheet_name='Skip_Logic',startrow=1 , startcol=0,index=False)\n",
        "orm_dataframe_id_replaced.to_excel(writer,sheet_name='Object_Relationship_Mappings',startrow=1 , startcol=0,index=False)\n",
        "writer.save()"
      ]
    },
    {
      "cell_type": "code",
      "execution_count": null,
      "metadata": {
        "id": "Wo0ma2niQUIa"
      },
      "outputs": [],
      "source": [
        "!cp /tmp/test.xlsx \"{workingDirectory + fileName}\""
      ]
    }
  ],
  "metadata": {
    "colab": {
      "provenance": []
    },
    "kernelspec": {
      "display_name": "Python 3",
      "name": "python3"
    },
    "language_info": {
      "name": "python"
    }
  },
  "nbformat": 4,
  "nbformat_minor": 0
}
