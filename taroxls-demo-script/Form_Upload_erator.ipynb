{
  "cells": [
    {
      "cell_type": "code",
      "execution_count": null,
      "metadata": {
        "id": "c8oWP1NMalLp"
      },
      "outputs": [],
      "source": [
        "import http.client\n",
        "import json\n",
        "from types import SimpleNamespace\n",
        "import pandas as pd\n",
        "from urllib.parse import quote\n",
        "pd.set_option('display.max_colwidth', None)\n",
        "!pip install xlsxwriter"
      ]
    },
    {
      "attachments": {},
      "cell_type": "markdown",
      "metadata": {
        "id": "zgyx0oUfl8vu"
      },
      "source": [
        "# Org - Specific Stuff"
      ]
    },
    {
      "cell_type": "code",
      "execution_count": null,
      "metadata": {
        "id": "R3M3he2oatM2"
      },
      "outputs": [],
      "source": [
        "url_to_query = \"twapi-demo-dev-ed.develop.my.salesforce.com\"\n",
        "# This is the GDrive folder to save things\n",
        "gdrive_folder = \"PFI TW API/\"\n",
        "#fileName = 'Register a Client English'\n",
        "fileName = 'proof-of-concept-Hannah_v2.xlsx'"
      ]
    },
    {
      "cell_type": "markdown",
      "metadata": {
        "id": "gOUCIKPyzhae"
      },
      "source": [
        "# Just run all the cells below this, only change them if you know what you're doing/enjoy frustration. After running, scroll to the last section to view any errors."
      ]
    },
    {
      "cell_type": "markdown",
      "metadata": {
        "id": "h9_ZTa0VmA2n"
      },
      "source": [
        "# Load a File from GDrive"
      ]
    },
    {
      "cell_type": "code",
      "execution_count": null,
      "metadata": {
        "id": "aV34fP85mE9K"
      },
      "outputs": [],
      "source": [
        "from google.colab import drive\n",
        "# Mount Google Drive so we can pull in files\n",
        "drive.mount('/content/drive')\n",
        "# Setup some directory names (helps to keep work separate)\n",
        "workingDirectory = '/content/drive/MyDrive/' + gdrive_folder"
      ]
    },
    {
      "cell_type": "code",
      "execution_count": null,
      "metadata": {
        "id": "WJOjmzHzYmLv"
      },
      "outputs": [],
      "source": [
        "!ls \"{workingDirectory}\""
      ]
    },
    {
      "cell_type": "markdown",
      "metadata": {
        "id": "OFuyjSiFmPn0"
      },
      "source": [
        "# Import the excel file into SalesForce"
      ]
    },
    {
      "cell_type": "markdown",
      "metadata": {
        "id": "szBqr6wTaz8j"
      },
      "source": [
        "## TODO - refactor into shared library"
      ]
    },
    {
      "cell_type": "code",
      "execution_count": null,
      "metadata": {
        "id": "ddCi3j5gzU3m"
      },
      "outputs": [],
      "source": [
        "def get_oauth_token_from_login():\n",
        "    conn = http.client.HTTPSConnection(url_to_query)\n",
        "    payload = ''\n",
        "    headers = {}\n",
        "    #NOTE: This is bad security practice, normally we would want these login details to be hidden so they don't get backed up to git\n",
        "    #For simplicity of this demo, we're exposing details here\n",
        "    #TODO: before production usage, separate these variables into a JSON file that's loaded from Google Drive\n",
        "    login_url = \"/services/oauth2/token?grant_type=password&client_id=xxx&client_secret=yyy&username=www&password=aaa\"\n",
        "    conn.request(\"POST\",  login_url, payload, headers)\n",
        "    res = conn.getresponse()\n",
        "    data = res.read()\n",
        "    decoded_form_data = data.decode(\"utf-8\")\n",
        "    data_obj = json.loads(decoded_form_data, object_hook=lambda d: SimpleNamespace(**d))\n",
        "    print(data_obj)\n",
        "    return \"OAuth \" + data_obj.access_token"
      ]
    },
    {
      "cell_type": "code",
      "execution_count": null,
      "metadata": {
        "id": "1KoCB1S0zWJS"
      },
      "outputs": [],
      "source": [
        "auth_header = get_oauth_token_from_login()\n",
        "print(auth_header)"
      ]
    },
    {
      "cell_type": "code",
      "execution_count": null,
      "metadata": {
        "id": "mZHgrDKfa1Xy"
      },
      "outputs": [],
      "source": [
        "def get_version_changelog_from_form_name(form_name):\n",
        "    form_name_urlsafe = quote(form_name, safe='/')\n",
        "    form_endpoint = \"/services/apexrest/formdata/v1?objectType=GetFormData&name=\" + form_name_urlsafe\n",
        "    form_dataframe = get_pandas_dataframe_from_json_web_call(form_endpoint)\n",
        "    try:\n",
        "      form_id = form_dataframe.id[0]\n",
        "      form_external_id = form_dataframe.externalId[0]\n",
        "    except: \n",
        "      print('No form matches that name')\n",
        "      return '', '', '','', None\n",
        "    # Note - this script assumes there is only 1 form matching the name\n",
        "    json_form_version = form_dataframe.formVersion[0]\n",
        "    form_version_string = str(json_form_version[0]).replace('\\'','\"')\n",
        "    form_version_json_obj = json.loads(form_version_string)\n",
        "    form_version_id = form_version_json_obj['versionid']\n",
        "    changelog_number = form_version_json_obj['changeLogNumber']\n",
        "    print('Form Version ID: ',form_version_id, ' Form ID: ', form_id, ' Changelog: ', changelog_number, ' externalID: ',form_external_id)\n",
        "    return form_version_id, changelog_number, form_id, form_external_id, form_dataframe"
      ]
    },
    {
      "cell_type": "code",
      "execution_count": null,
      "metadata": {
        "id": "0Opp3YVAa34i"
      },
      "outputs": [],
      "source": [
        "def get_pandas_dataframe_from_json_web_call(endpoint_to_hit):\n",
        "    conn = http.client.HTTPSConnection(url_to_query)\n",
        "    payload = ''\n",
        "    headers = {\n",
        "      'Authorization': auth_header,\n",
        "      'Content-Type': 'application/json',\n",
        "    }\n",
        "    conn.request(\"GET\",  endpoint_to_hit, payload, headers)\n",
        "    res = conn.getresponse()\n",
        "    data = res.read()\n",
        "    decoded_form_data = data.decode(\"utf-8\")\n",
        "    data_obj = json.loads(decoded_form_data)\n",
        "    records_dataframe = pd.json_normalize(data_obj, record_path =['records'])\n",
        "    return records_dataframe"
      ]
    },
    {
      "cell_type": "code",
      "execution_count": null,
      "metadata": {
        "id": "05M4etFVa59d"
      },
      "outputs": [],
      "source": [
        "def upload_payload_to_url(endpoint_to_upload, payload):\n",
        "      conn = http.client.HTTPSConnection(url_to_query)\n",
        "      headers = {\n",
        "        'Authorization': auth_header,\n",
        "        'Content-Type': 'application/json',\n",
        "      }\n",
        "      conn.request(\"PUT\", endpoint_to_upload, payload.encode(), headers)\n",
        "      res = conn.getresponse()\n",
        "      data = res.read()\n",
        "      decoded_form_data = data.decode(\"utf-8\")\n",
        "      data_obj = json.loads(decoded_form_data)\n",
        "      results_dataframe = pd.json_normalize(data_obj)\n",
        "      print(data.decode(\"utf-8\"))\n",
        "      return results_dataframe"
      ]
    },
    {
      "cell_type": "markdown",
      "metadata": {
        "id": "ex2gJ6XmbAZd"
      },
      "source": [
        "## Read excel file"
      ]
    },
    {
      "cell_type": "code",
      "execution_count": null,
      "metadata": {
        "id": "XGOcWBuubB_R"
      },
      "outputs": [],
      "source": [
        "# Read excel file into dataframes\n",
        "xls = pd.ExcelFile(workingDirectory + fileName)\n",
        "upload_form_dataframe = pd.read_excel(xls, 'Forms',header=1)\n",
        "upload_questions_without_options = pd.read_excel(xls, 'Questions', header=1)\n",
        "upload_options = pd.read_excel(xls, 'Options', header=1)\n",
        "upload_question_mapping = pd.read_excel(xls, 'Question_Mappings', header=1)\n",
        "upload_field_mapping_no_question_mapping = pd.read_excel(xls, 'Field_Mappings', header=1)\n",
        "upload_skip_logic = pd.read_excel(xls, 'Skip_Logic', header=1)\n",
        "upload_orm = pd.read_excel(xls, 'Object_Relationship_Mappings', header=1)"
      ]
    },
    {
      "cell_type": "code",
      "execution_count": null,
      "metadata": {
        "id": "n10BT1lzY3g-"
      },
      "outputs": [],
      "source": [
        "upload_questions_without_options"
      ]
    },
    {
      "cell_type": "markdown",
      "metadata": {
        "id": "FMLWA82dbW89"
      },
      "source": [
        "## Form"
      ]
    },
    {
      "cell_type": "code",
      "execution_count": null,
      "metadata": {
        "id": "PBElNbxqbVsF"
      },
      "outputs": [],
      "source": [
        "upload_form_dataframe_relevant_columns = upload_form_dataframe[['name','alias','messageAfterSubmission','description']].fillna(\"\")\n",
        "form_name_to_upload = str(upload_form_dataframe_relevant_columns.name[0])\n",
        "# Fetch latest form ID and changelog from the API\n",
        "form_version_id, changelog_number, form_id, form_external_id, form_dataframe = get_version_changelog_from_form_name(form_name_to_upload)"
      ]
    },
    {
      "cell_type": "code",
      "execution_count": null,
      "metadata": {
        "id": "0_nW3QPTG2-u"
      },
      "outputs": [],
      "source": [
        "upload_form_dataframe_relevant_columns"
      ]
    },
    {
      "cell_type": "code",
      "execution_count": null,
      "metadata": {
        "id": "1R0mk9DqF_Oc"
      },
      "outputs": [],
      "source": [
        "updating_existing_form = form_id\n",
        "if updating_existing_form:\n",
        "      #update existing form\n",
        "      print('Update existing form ' + form_id)\n",
        "      upload_form_dataframe_relevant_columns['id'] = form_id\n",
        "      formVersionString = '\"formVersion\": [{\"versionid\": \"' + form_version_id + '\",\"changeLogNumber\": \"' + changelog_number + '\"}]'\n",
        "else:\n",
        "      #create new form\n",
        "      print('Creating new form')\n",
        "      upload_form_dataframe_relevant_columns['id'] = \"\"\n",
        "      formVersionString = '\"formVersion\": [{\"versionid\": \"\",\"changeLogNumber\": \"\"}]'\n",
        "\n",
        "# Forms made on the UI will have a null external ID even if they're updating, so handle form external IDs outside of \"is updating\" logic\n",
        "if (form_external_id):\n",
        "    upload_form_dataframe_relevant_columns['externalId'] = form_external_id\n",
        "else:\n",
        "    #Use the name as the external ID if none specified\n",
        "    upload_form_dataframe_relevant_columns['externalId'] = upload_form_dataframe_relevant_columns['name']\n",
        "      \n",
        "\n",
        "\n",
        "#This will only upload 1 form\n",
        "upload_str = str(upload_form_dataframe_relevant_columns.T.astype(str).to_json(force_ascii=False)).replace('{\"0\":','{\"records\":[')[:-2] + ',' + formVersionString + '}]}'\n",
        "print(upload_str)\n",
        "form_update_endpoint = '/services/apexrest/formdata/v1?objectType=PutFormData'\n",
        "payload = upload_str\n",
        "form_result = upload_payload_to_url(form_update_endpoint, upload_str)"
      ]
    },
    {
      "cell_type": "markdown",
      "metadata": {
        "id": "DKwx2y_QcRj7"
      },
      "source": [
        "## Fetch existing Questions"
      ]
    },
    {
      "cell_type": "code",
      "execution_count": null,
      "metadata": {
        "id": "frahfzeHbdFA"
      },
      "outputs": [],
      "source": [
        "# First read in all known questions + options for this form into dataframes\n",
        "question_endpoint = \"/services/apexrest/questiondata/v1?objectType=GetQuestionData&formVersionId=\" + form_version_id\n",
        "question_dataframe = pd.DataFrame(columns=['externalId', 'id', 'name', 'caption', 'cascadingLevel',\\\n",
        "       'cascadingSelect', 'controllingQuestion', 'displayRepeatSectionInTable',\\\n",
        "       'dynamicOperation', 'dynamicOperationTestData', 'dynamicOperationType',\\\n",
        "       'exampleOfValidResponse', 'form', 'formVersion', 'hidden', 'maximum',\\\n",
        "       'minimum', 'parent', 'position', 'previousVersion', 'printAnswer',\\\n",
        "       'repeatSourceValue', 'repeatTimes', 'required', 'responseValidation',\\\n",
        "       'showAllQuestionOnOnePage', 'skipLogicBehavior', 'skipLogicOperator',\\\n",
        "       'hint', 'testDynamicOperation', 'type', 'useCurrentTimeAsDefault',\\\n",
        "       'changeLogNumber', 'options'])\n",
        "question_dataframe = pd.concat([question_dataframe,get_pandas_dataframe_from_json_web_call(question_endpoint)])\n",
        "# TODO - refactor to shared\n",
        "#Iterate all questions that have options and create a new dataframe that has just the options\n",
        "options_dataframe = pd.DataFrame(columns=[\"externalId\" , \"id\" , \"name\" , \"position\" , \"caption\" ])\n",
        "for index, frame in question_dataframe.iterrows():\n",
        "    if (frame.options):\n",
        "      questionId = frame.id\n",
        "      individual_option_df = pd.read_json(str(frame.options).replace('\\'','\"'))\n",
        "      individual_option_df['questionId'] = questionId\n",
        "      options_dataframe = pd.concat([individual_option_df,options_dataframe])\n",
        "\n",
        "questions_without_options = question_dataframe.loc[:, question_dataframe.columns != 'options']\n",
        "#if updating_existing_form:\n",
        "existing_questions_lookup = questions_without_options[['externalId','id','name']]\n",
        "existing_options_lookup = options_dataframe[['externalId','id','name']]"
      ]
    },
    {
      "cell_type": "code",
      "execution_count": null,
      "metadata": {
        "id": "D-ph4qtQmUKr"
      },
      "outputs": [],
      "source": [
        "existing_questions_lookup"
      ]
    },
    {
      "cell_type": "markdown",
      "metadata": {
        "id": "3OfFtF2kcTOt"
      },
      "source": [
        "## Format new questions/options"
      ]
    },
    {
      "cell_type": "markdown",
      "metadata": {
        "id": "6mNUjEvDdrBm"
      },
      "source": [
        "### For this script, assume the excel file has been unsquished (only has 1 column with a caption)"
      ]
    },
    {
      "cell_type": "code",
      "execution_count": null,
      "metadata": {
        "id": "vmM4iSUFdJ4-"
      },
      "outputs": [],
      "source": [
        "upload_options_sanitized = upload_options.copy()\n",
        "for column in upload_options:\n",
        "    if ('caption' in column):\n",
        "        #Remove the language-specific suffix\n",
        "        upload_options_sanitized = upload_options_sanitized.rename(columns={column:'caption'})\n",
        "\n",
        "# Treat externalID as optional; if it is not defined, use the name instead\n",
        "if (upload_options_sanitized.empty):\n",
        "    upload_options_sanitized['externalId'] = None\n",
        "else:\n",
        "    upload_options_sanitized['externalId'] = upload_options_sanitized['name']\n",
        "upload_options_sanitized = upload_options_sanitized[['name','position','caption','questionName','externalId']]"
      ]
    },
    {
      "cell_type": "code",
      "execution_count": null,
      "metadata": {
        "id": "K1oE2E4dis-e"
      },
      "outputs": [],
      "source": [
        "upload_questions_sanitized = upload_questions_without_options.copy().fillna(\"\")\n",
        "for column in upload_questions_sanitized:\n",
        "    if ('caption' in column):\n",
        "        #Remove the language-specific suffix\n",
        "        upload_questions_sanitized = upload_questions_sanitized.rename(columns={column:'caption'})"
      ]
    },
    {
      "cell_type": "code",
      "execution_count": null,
      "metadata": {
        "id": "YusfeYEffyru"
      },
      "outputs": [],
      "source": [
        "upload_options_sanitized = upload_options_sanitized.merge(existing_options_lookup[['id','name']],how=\"left\",on=\"name\").fillna(\"\")"
      ]
    },
    {
      "cell_type": "code",
      "execution_count": null,
      "metadata": {
        "id": "7ALR1NM5b6WM"
      },
      "outputs": [],
      "source": [
        "# Fetch latest form ID and changelog from the API\n",
        "form_version_id, changelog_number, form_id, form_external_id, form_dataframe = get_version_changelog_from_form_name(form_name_to_upload)"
      ]
    },
    {
      "cell_type": "code",
      "execution_count": null,
      "metadata": {
        "id": "Neu2TsXWcVrz"
      },
      "outputs": [],
      "source": [
        "#Convert options df back into nested json\n",
        "options_associated_with_questions = upload_options['questionName'].drop_duplicates()\n",
        "options_associated_with_questions\n",
        "upload_questions_with_options = upload_questions_sanitized.copy()\n",
        "upload_questions_with_options['options'] = None\n",
        "\n",
        "# Treat externalID as optional; if it is not defined, use the name instead\n",
        "upload_questions_with_options['externalId'] = upload_questions_with_options['name']"
      ]
    },
    {
      "cell_type": "code",
      "execution_count": null,
      "metadata": {
        "id": "f22BBluFgLOr"
      },
      "outputs": [],
      "source": [
        "upload_questions_with_options = upload_questions_with_options.merge(existing_questions_lookup[['id','name']],how=\"left\",on=\"name\").fillna('')"
      ]
    },
    {
      "cell_type": "code",
      "execution_count": null,
      "metadata": {
        "id": "24ObvuTp7oku"
      },
      "outputs": [],
      "source": [
        "upload_questions_with_options"
      ]
    },
    {
      "cell_type": "code",
      "execution_count": null,
      "metadata": {
        "id": "LTc_XJ49chQj"
      },
      "outputs": [],
      "source": [
        "for questionName in options_associated_with_questions.iteritems():\n",
        "      thisQuestionName = questionName[1]\n",
        "      upload_options_json = str(upload_options_sanitized[upload_options_sanitized['questionName'] == thisQuestionName][['externalId','id','name','position','caption']].to_json(orient='records',force_ascii=False))\n",
        "      print(upload_options_json)\n",
        "      row_index = upload_questions_with_options.index[upload_questions_with_options['name'] == thisQuestionName ].tolist()[0]\n",
        "      print(row_index)\n",
        "      upload_questions_with_options.at[row_index,'options']= upload_options_json"
      ]
    },
    {
      "cell_type": "code",
      "execution_count": null,
      "metadata": {
        "id": "mn-A8C1uhAxZ"
      },
      "outputs": [],
      "source": [
        "upload_questions_with_options = upload_questions_with_options.merge( \\\n",
        "        existing_questions_lookup[['id','name']].rename(columns={'id':'parentId','name':'parentName'}),\n",
        "        how=\"left\",on=\"parentName\")\\\n",
        "        .rename(columns={'parentId':'parent'}).fillna('')"
      ]
    },
    {
      "cell_type": "code",
      "execution_count": null,
      "metadata": {
        "id": "Kr1izGvdaKY4"
      },
      "outputs": [],
      "source": [
        "# In cases where the parent name is not blank but the parent is blank, this means that no ID already exists for the question parent (it hasn't been updated) - use the externalID\n",
        "parent_externalId_lookup = upload_questions_with_options[upload_questions_with_options['parentName'] == ''][['name','externalId']].rename(columns={'name':'parentName','externalId':'parentExternalId'})"
      ]
    },
    {
      "cell_type": "code",
      "execution_count": null,
      "metadata": {
        "id": "ASVbC50PficX"
      },
      "outputs": [],
      "source": [
        "upload_questions_with_options = upload_questions_with_options.merge(parent_externalId_lookup,how=\"left\",on='parentName').fillna('')\n",
        "upload_questions_with_options['parent'] = upload_questions_with_options.apply(lambda x: str(x.parentExternalId) if x.parentName and not x.parent else x.parent, axis = 1)\n"
      ]
    },
    {
      "cell_type": "code",
      "execution_count": null,
      "metadata": {
        "id": "TzFkBTInhWo-"
      },
      "outputs": [],
      "source": [
        "upload_questions_with_options['form'] = form_id\n",
        "upload_questions_with_options['formVersion'] = form_version_id\n",
        "upload_questions_with_options['changeLogNumber'] = changelog_number"
      ]
    },
    {
      "cell_type": "code",
      "execution_count": null,
      "metadata": {
        "id": "4FLG-iGhdDzk"
      },
      "outputs": [],
      "source": [
        "upload_questions_with_options"
      ]
    },
    {
      "cell_type": "code",
      "execution_count": null,
      "metadata": {
        "id": "HGtEcHB1hZJF"
      },
      "outputs": [],
      "source": [
        "question_with_options_creation_string = '{\"records\":' + str(upload_questions_with_options[['externalId', 'id', 'name',\n",
        "       'caption', 'cascadingLevel',\n",
        "       'cascadingSelect', 'controllingQuestion', 'displayRepeatSectionInTable',\n",
        "       'dynamicOperationType', 'exampleOfValidResponse',\n",
        "       'form', 'formVersion', 'hidden', \n",
        "       'maximum',  'minimum', 'parent', 'position',\n",
        "       'previousVersion', 'printAnswer',\n",
        "       'repeatSourceValue', 'repeatTimes',\n",
        "       'required', 'responseValidation', 'showAllQuestionOnOnePage',\n",
        "       'skipLogicBehavior', 'skipLogicOperator', 'hint',\n",
        "       'testDynamicOperation', 'type', 'useCurrentTimeAsDefault',\n",
        "       'changeLogNumber', 'options']].to_json(orient=\"records\",force_ascii=False)).replace('\\\\','').replace('\"[{\"','[{\"').replace('\"}]\"','\"}]').replace(',\"options\":\"\"',',\"options\":[]').replace('null','\"\"') + '}'\n",
        "question_with_options_creation_string"
      ]
    },
    {
      "cell_type": "code",
      "execution_count": null,
      "metadata": {
        "id": "TDVPABUdjC0G"
      },
      "outputs": [],
      "source": [
        "questions_result = upload_payload_to_url('/services/apexrest/questiondata/v1?objectType=PutQuestionData', question_with_options_creation_string)"
      ]
    },
    {
      "cell_type": "markdown",
      "metadata": {
        "id": "EOcg-3M3j10z"
      },
      "source": [
        "## Read Back Questions and update any relevant IDs"
      ]
    },
    {
      "cell_type": "code",
      "execution_count": null,
      "metadata": {
        "id": "msSK25scj8sh"
      },
      "outputs": [],
      "source": [
        "question_endpoint = \"/services/apexrest/questiondata/v1?objectType=GetQuestionData&formVersionId=\" + form_version_id\n",
        "questions_after_upload = get_pandas_dataframe_from_json_web_call(question_endpoint)"
      ]
    },
    {
      "cell_type": "code",
      "execution_count": null,
      "metadata": {
        "id": "5iFc152hetay"
      },
      "outputs": [],
      "source": [
        "questions_after_upload"
      ]
    },
    {
      "cell_type": "code",
      "execution_count": null,
      "metadata": {
        "id": "9FKG3QikkyJq"
      },
      "outputs": [],
      "source": [
        "question_id_lookup = questions_after_upload[['id','name']].rename(columns={'id':'questionId','name':'questionName'})"
      ]
    },
    {
      "cell_type": "markdown",
      "metadata": {
        "id": "gOKqlTV9lHHh"
      },
      "source": [
        "### Update any dependent objects from the spreadsheet:\n",
        "\n",
        "\n",
        "*   Question Mapping \"question\" field\n",
        "*   Field Mapping \"repeat\" field\n",
        "*   Skip Logic \"sourceQuestion\" and \"parentQuestion\"  "
      ]
    },
    {
      "cell_type": "code",
      "execution_count": null,
      "metadata": {
        "id": "1UdOyaL5lfPn"
      },
      "outputs": [],
      "source": [
        "question_mapping_referencing_new_ids = upload_question_mapping.merge(question_id_lookup,how=\"left\").rename(columns={\"questionId\":'question'})"
      ]
    },
    {
      "cell_type": "code",
      "execution_count": null,
      "metadata": {
        "id": "rFOcM-gGMgYd"
      },
      "outputs": [],
      "source": [
        "contains_repeat_sections = upload_field_mapping_no_question_mapping[pd.isna(upload_field_mapping_no_question_mapping['repeatQuestionName']) == False]"
      ]
    },
    {
      "cell_type": "code",
      "execution_count": null,
      "metadata": {
        "id": "MHfczmYSmbp5"
      },
      "outputs": [],
      "source": [
        "if (not contains_repeat_sections.empty):\n",
        "    field_mapping_referencing_new_ids = upload_field_mapping_no_question_mapping.merge(question_id_lookup,how=\"left\",left_on='repeatQuestionName',right_on=\"questionName\").rename(columns={'questionId':'repeat'})\n",
        "else:\n",
        "    upload_field_mapping_no_question_mapping['repeat'] = ''\n",
        "    field_mapping_referencing_new_ids = upload_field_mapping_no_question_mapping"
      ]
    },
    {
      "cell_type": "code",
      "execution_count": null,
      "metadata": {
        "id": "iemEbRNrn_BP"
      },
      "outputs": [],
      "source": [
        "upload_skip_logic_referencing_new_ids = upload_skip_logic.merge(question_id_lookup,how=\"left\",left_on=\"sourceQuestionName\",right_on=\"questionName\")\\\n",
        "    .rename(columns={\"questionId\":\"sourceQuestion\"})\\\n",
        "    .drop(columns=['sourceQuestionName','questionName'])\\\n",
        "    .merge(question_id_lookup,how=\"left\",left_on=\"parentQuestionName\",right_on=\"questionName\")\\\n",
        "    .rename(columns={\"questionId\":\"parentQuestion\"}).drop(columns=['parentQuestionName','questionName'])"
      ]
    },
    {
      "cell_type": "markdown",
      "metadata": {
        "id": "5CSEN5wM1DfL"
      },
      "source": [
        "## Read existing Field and Form Mappings"
      ]
    },
    {
      "cell_type": "code",
      "execution_count": null,
      "metadata": {
        "id": "L8FyDEbu1F-_"
      },
      "outputs": [],
      "source": [
        "field_mapping_endpoint = \"/services/apexrest/formmappingdata/v1?objectType=GetFormMappingData&formVersionId=\" + form_version_id\n",
        "field_mapping_dataframe = pd.DataFrame(columns = ['externalId', 'id', 'name', 'form', 'formVersion',\\\n",
        "       'formVersionMappingField', 'mobileUserField', 'objectApiName',\\\n",
        "       'formMappingField', 'isReference', 'matchingField', 'repeat',\\\n",
        "       'submissionAPIField', 'changeLogNumber', 'questionMappings'])\n",
        "field_mapping_dataframe = pd.concat([field_mapping_dataframe,get_pandas_dataframe_from_json_web_call(field_mapping_endpoint)])\n",
        "#Iterate all form mappings that have question mappings and create a new dataframe that has just the question mappings\n",
        "question_mapping_dataframe = pd.DataFrame(columns=[\"externalId\", \"name\", \"id\", \"fieldAPIName\",\"isBroken\",\"question\",\"scoringGroup\"])\n",
        "for index, frame in field_mapping_dataframe.iterrows():\n",
        "    if (frame.questionMappings):\n",
        "      print(str(frame.questionMappings).replace('\\'','\"'))\n",
        "      field_mapping_id = frame.id\n",
        "      #JSON is case-sensitive, python apparently converts it into uppercase\n",
        "      individual_question_mapping_df = pd.read_json(str(frame.questionMappings).replace('\\'','\"').replace(\"True\",\"true\").replace(\"False\",\"false\"))\n",
        "      individual_question_mapping_df['field_mapping_id'] = field_mapping_id\n",
        "      question_mapping_dataframe = pd.concat([individual_question_mapping_df,question_mapping_dataframe])\n",
        "field_mapping_without_questions = field_mapping_dataframe.loc[:, field_mapping_dataframe.columns != 'questionMappings']"
      ]
    },
    {
      "cell_type": "markdown",
      "metadata": {
        "id": "so7BuO9DoYMM"
      },
      "source": [
        "## Field and Form Mapping"
      ]
    },
    {
      "cell_type": "code",
      "execution_count": null,
      "metadata": {
        "id": "-bv1GY51oZB2"
      },
      "outputs": [],
      "source": [
        "form_version_id, changelog_number, form_id, form_external_id, form_dataframe = get_version_changelog_from_form_name(form_name_to_upload)"
      ]
    },
    {
      "cell_type": "code",
      "execution_count": null,
      "metadata": {
        "id": "AamDMPQYocnU"
      },
      "outputs": [],
      "source": [
        "#Convert options df back into nested json\n",
        "question_mapping_associated_with_field_mapping = question_mapping_referencing_new_ids['fieldMappingName'].drop_duplicates()"
      ]
    },
    {
      "cell_type": "code",
      "execution_count": null,
      "metadata": {
        "id": "bjzhZXBb0Byx"
      },
      "outputs": [],
      "source": [
        "upload_field_mapping_with_question_mapping = field_mapping_referencing_new_ids.copy()\n",
        "upload_field_mapping_with_question_mapping['questionMappings'] = None"
      ]
    },
    {
      "cell_type": "code",
      "execution_count": null,
      "metadata": {
        "id": "b8LNTG1nQy8E"
      },
      "outputs": [],
      "source": [
        "if (upload_field_mapping_with_question_mapping.empty):\n",
        "    upload_field_mapping_with_question_mapping['externalId'] = None\n",
        "else:\n",
        "    upload_field_mapping_with_question_mapping['externalId'] = upload_field_mapping_with_question_mapping['name']"
      ]
    },
    {
      "cell_type": "code",
      "execution_count": null,
      "metadata": {
        "id": "q94Em_EnSGqx"
      },
      "outputs": [],
      "source": [
        "if (question_mapping_referencing_new_ids.empty):\n",
        "    question_mapping_referencing_new_ids['externalId'] = None\n",
        "else:\n",
        "    question_mapping_referencing_new_ids['externalId'] = question_mapping_referencing_new_ids['name']"
      ]
    },
    {
      "cell_type": "code",
      "execution_count": null,
      "metadata": {
        "id": "vAQ3wdAd0unL"
      },
      "outputs": [],
      "source": [
        "upload_question_mapping_with_ids = question_mapping_referencing_new_ids.merge(question_mapping_dataframe[['name','id']],how=\"left\",on=\"name\")"
      ]
    },
    {
      "cell_type": "code",
      "execution_count": null,
      "metadata": {
        "id": "18ZDjQFc0D3P"
      },
      "outputs": [],
      "source": [
        "for field_mapping_name in question_mapping_associated_with_field_mapping.iteritems():\n",
        "      thisFieldMapping = field_mapping_name[1]\n",
        "      print(thisFieldMapping)\n",
        "      upload_question_mapping_json = str(upload_question_mapping_with_ids[upload_question_mapping_with_ids['fieldMappingName'] == thisFieldMapping][['externalId', 'name', 'id', 'fieldAPIName', 'isBroken','question', 'scoringGroup']].to_json(orient='records',force_ascii=False))\n",
        "      print(upload_question_mapping_json)\n",
        "      row_index = upload_field_mapping_with_question_mapping.index[upload_field_mapping_with_question_mapping['name'] == thisFieldMapping ].tolist()[0]\n",
        "      print(row_index)\n",
        "      upload_field_mapping_with_question_mapping.at[row_index,'questionMappings']= upload_question_mapping_json"
      ]
    },
    {
      "cell_type": "code",
      "execution_count": null,
      "metadata": {
        "id": "amb-Z85Y2vVJ"
      },
      "outputs": [],
      "source": [
        "upload_field_mapping_with_question_mapping['form'] = form_id\n",
        "upload_field_mapping_with_question_mapping['formVersion'] = form_version_id\n",
        "upload_field_mapping_with_question_mapping['changeLogNumber'] = changelog_number"
      ]
    },
    {
      "cell_type": "code",
      "execution_count": null,
      "metadata": {
        "id": "4PgYDAX121Zw"
      },
      "outputs": [],
      "source": [
        "upload_field_mapping_with_question_mapping = upload_field_mapping_with_question_mapping.merge(field_mapping_without_questions[['id','name']],how=\"left\",on=\"name\")"
      ]
    },
    {
      "cell_type": "code",
      "execution_count": null,
      "metadata": {
        "id": "WIcJcp6E3d04"
      },
      "outputs": [],
      "source": [
        "upload_field_mapping_with_question_mapping = upload_field_mapping_with_question_mapping.fillna(\"\")"
      ]
    },
    {
      "cell_type": "code",
      "execution_count": null,
      "metadata": {
        "id": "lzc28u9u2xsx"
      },
      "outputs": [],
      "source": [
        "upload_field_mapping_string = '{\"records\":' + str(upload_field_mapping_with_question_mapping[['externalId', 'id', 'name', 'form', 'formVersion',\n",
        "       'formVersionMappingField', 'mobileUserField', \n",
        "       'objectApiName', 'formMappingField', \n",
        "       'isReference', 'matchingField', 'repeat', \n",
        "       'submissionAPIField', 'changeLogNumber', 'questionMappings']].astype(str).to_json(orient=\"records\",force_ascii=False)).replace('\\\\','')\\\n",
        "       .replace('\"[{\"','[{\"').replace(']\"}',']}') + \"}\"\n",
        "print(upload_field_mapping_string)"
      ]
    },
    {
      "cell_type": "code",
      "execution_count": null,
      "metadata": {
        "id": "GnOS8ON23ro3"
      },
      "outputs": [],
      "source": [
        "if (upload_field_mapping_with_question_mapping.empty):\n",
        "    form_mapping_result = \"No Form Mapping to upload\"\n",
        "else:\n",
        "    form_mapping_result = upload_payload_to_url('/services/apexrest/formmappingdata/v1?objectType=PutFormMappingData', upload_field_mapping_string)"
      ]
    },
    {
      "cell_type": "markdown",
      "metadata": {
        "id": "UCxejjzFeEWw"
      },
      "source": [
        "## Read back field and form mapping IDs, update ORM IDs"
      ]
    },
    {
      "cell_type": "code",
      "execution_count": null,
      "metadata": {
        "id": "zCVw12iBeJfH"
      },
      "outputs": [],
      "source": [
        "field_mapping_endpoint = \"/services/apexrest/formmappingdata/v1?objectType=GetFormMappingData&formVersionId=\" + form_version_id\n",
        "field_mapping_after_upload_dataframe = pd.DataFrame(columns = [\"externalId\",\"id\" ,\"name\" ,\"form\" ,\"formVersion\" ,\"formVersionMappingField\" ,\"mobileUserField\" ,\"patScoreMappingField\" ,\"objectApiName\" ,\"formMappingField\" ,\"intervieweeMapField\" ,\"isReference\" ,\"matchingField\" ,\"repeat\" ,\"useAsInterviewee\" ,\"submissionAPIField\" ,\"changeLogNumber\" ,\"questionMappings\" ])\n",
        "field_mapping_after_upload_dataframe = pd.concat([field_mapping_after_upload_dataframe,get_pandas_dataframe_from_json_web_call(field_mapping_endpoint)])"
      ]
    },
    {
      "cell_type": "code",
      "execution_count": null,
      "metadata": {
        "id": "XmGl0j4bepTp"
      },
      "outputs": [],
      "source": [
        "upload_orm_with_replaced_id = upload_orm.merge(field_mapping_after_upload_dataframe.rename(columns={\"name\":\"parentSurveyName\",\"id\":\"parentSurveyMapping\"})[['parentSurveyName','parentSurveyMapping']],how=\"left\",on=\"parentSurveyName\")\\\n",
        "    .merge(field_mapping_after_upload_dataframe.rename(columns={\"name\":\"childSurveyName\",\"id\":\"childSurveyMapping\"})[['childSurveyName','childSurveyMapping']],how=\"left\",on=\"childSurveyName\")\\\n",
        "    [['name','fieldApiName','parentSurveyMapping','childSurveyMapping']]\n",
        "\n",
        "if (upload_orm_with_replaced_id.empty):\n",
        "    upload_orm_with_replaced_id['externalId'] = None\n",
        "else:\n",
        "    upload_orm_with_replaced_id['externalId'] = upload_orm_with_replaced_id['name']\n"
      ]
    },
    {
      "cell_type": "markdown",
      "metadata": {
        "id": "c213Q0cglvdJ"
      },
      "source": [
        "## Update ORM"
      ]
    },
    {
      "cell_type": "code",
      "execution_count": null,
      "metadata": {
        "id": "pH_ToImplwkS"
      },
      "outputs": [],
      "source": [
        "# Fetch latest form ID and changelog from the API\n",
        "form_version_id, changelog_number, form_id, form_external_id, form_dataframe = get_version_changelog_from_form_name(form_name_to_upload)"
      ]
    },
    {
      "cell_type": "code",
      "execution_count": null,
      "metadata": {
        "id": "i66DOrTXmmZP"
      },
      "outputs": [],
      "source": [
        "#Fetch existing ORM\n",
        "orm_endpoint = \"/services/apexrest/questiondata/v1?objectType=GetObjectRelationshipMappingData&formVersionId=\" + form_version_id\n",
        "orm_dataframe = pd.DataFrame(columns=[\"externalId\" ,\"id\" ,\"name\" ,\"fieldApiName\" ,\"parentSurveyMapping\" ,\"childSurveyMapping\" ,\"formVersion\" ,\"changeLogNumber\"])\n",
        "orm_dataframe = pd.concat([orm_dataframe, get_pandas_dataframe_from_json_web_call(orm_endpoint)])"
      ]
    },
    {
      "cell_type": "code",
      "execution_count": null,
      "metadata": {
        "id": "pnGQtOx8m2eZ"
      },
      "outputs": [],
      "source": [
        "upload_orm_with_replaced_id = upload_orm_with_replaced_id.merge(orm_dataframe[['id','name']],how=\"left\",on=\"name\")"
      ]
    },
    {
      "cell_type": "code",
      "execution_count": null,
      "metadata": {
        "id": "aisCtsQml1Sl"
      },
      "outputs": [],
      "source": [
        "upload_orm = upload_orm_with_replaced_id[['externalId', 'id', 'name', 'fieldApiName',\n",
        "       'parentSurveyMapping', 'childSurveyMapping']].fillna(\"\")\n",
        "\n",
        "upload_orm['formVersion'] = form_version_id\n",
        "upload_orm['changeLogNumber'] = changelog_number"
      ]
    },
    {
      "cell_type": "code",
      "execution_count": null,
      "metadata": {
        "id": "r6vSvgSQl3TC"
      },
      "outputs": [],
      "source": [
        "string_to_upload = '{\"records\":' + upload_orm.astype(str).to_json(orient=\"records\",force_ascii=False) + '}'\n",
        "string_to_upload"
      ]
    },
    {
      "cell_type": "code",
      "execution_count": null,
      "metadata": {
        "id": "2jshHDJDl4lg"
      },
      "outputs": [],
      "source": [
        "orm_update_endpoint = '/services/apexrest/objectrelationshipmappingdata/v1?objectType=PutObjectRelationshipMappingData'\n",
        "if (upload_orm.empty):\n",
        "    orm_result = \"No ORM to Upload\"\n",
        "else:\n",
        "    orm_result = upload_payload_to_url(orm_update_endpoint, string_to_upload)"
      ]
    },
    {
      "cell_type": "markdown",
      "metadata": {
        "id": "zb_Vb9WqnsxF"
      },
      "source": [
        "## Upload Skip Logic"
      ]
    },
    {
      "cell_type": "code",
      "execution_count": null,
      "metadata": {
        "id": "BeLNqkypnvdP"
      },
      "outputs": [],
      "source": [
        "# Fetch latest form ID and changelog from the API\n",
        "form_version_id, changelog_number, form_id, form_external_id, form_dataframe = get_version_changelog_from_form_name(form_name_to_upload)"
      ]
    },
    {
      "cell_type": "code",
      "execution_count": null,
      "metadata": {
        "id": "TGovfnLFoEeF"
      },
      "outputs": [],
      "source": [
        "#Fetch existing Skip Logic\n",
        "skip_logic_endpoint = \"/services/apexrest/questiondata/v1?objectType=GetSkipLogicData&formVersionId=\" + form_version_id\n",
        "skip_logic_dataframe = pd.DataFrame(columns=[\"externalId\" ,\"id\" ,\"negate\" ,\"skipValue\" ,\"condition\" ,\"parentQuestion\" ,\"sourceQuestion\" ,\"form\" ,\"formVersion\" ,\"changeLogNumber\"])\n",
        "skip_logic_dataframe = pd.concat([skip_logic_dataframe, get_pandas_dataframe_from_json_web_call(skip_logic_endpoint)])"
      ]
    },
    {
      "cell_type": "code",
      "execution_count": null,
      "metadata": {
        "id": "s_XCpyXOpSak"
      },
      "outputs": [],
      "source": [
        "skip_logic_dataframe['joinColumn'] = skip_logic_dataframe['parentQuestion'] + '-' + skip_logic_dataframe['sourceQuestion']"
      ]
    },
    {
      "cell_type": "code",
      "execution_count": null,
      "metadata": {
        "id": "ZDmJtkGBpQ2p"
      },
      "outputs": [],
      "source": [
        "upload_skip_logic_referencing_new_ids['joinColumn'] = upload_skip_logic_referencing_new_ids['parentQuestion'] + '-' + upload_skip_logic_referencing_new_ids['sourceQuestion']"
      ]
    },
    {
      "cell_type": "code",
      "execution_count": null,
      "metadata": {
        "id": "Wmvxzmywok1I"
      },
      "outputs": [],
      "source": [
        "# Get existing IDs and external IDs for any existing skip logic\n",
        "upload_skip_logic_referencing_new_ids_joined = upload_skip_logic_referencing_new_ids.merge(skip_logic_dataframe[['id','externalId','joinColumn']],how=\"left\",on=\"joinColumn\").fillna(\"\")\n"
      ]
    },
    {
      "cell_type": "code",
      "execution_count": null,
      "metadata": {
        "id": "cA1Z7ouNhd6C"
      },
      "outputs": [],
      "source": [
        "if (upload_skip_logic_referencing_new_ids_joined.empty):\n",
        "    upload_skip_logic_referencing_new_ids_joined['externalId'] = None\n",
        "else:\n",
        "    upload_skip_logic_referencing_new_ids_joined['externalId'] = upload_skip_logic_referencing_new_ids_joined.apply(lambda x: str(x['externalId']) if x['externalId'] else x['joinColumn'], axis=1)"
      ]
    },
    {
      "cell_type": "code",
      "execution_count": null,
      "metadata": {
        "id": "nBMbPswpn0JF"
      },
      "outputs": [],
      "source": [
        "upload_skip_logic = upload_skip_logic_referencing_new_ids_joined[['externalId', 'id', 'negate', 'skipValue', 'condition',\n",
        "       'parentQuestion', 'sourceQuestion']]\n",
        "\n",
        "upload_skip_logic['form'] = form_id\n",
        "upload_skip_logic['formVersion'] = form_version_id\n",
        "upload_skip_logic['changeLogNumber'] = changelog_number"
      ]
    },
    {
      "cell_type": "code",
      "execution_count": null,
      "metadata": {
        "id": "3L0Ah3zXqRM8"
      },
      "outputs": [],
      "source": [
        "string_to_upload = '{\"records\":' + upload_skip_logic.astype(str).to_json(orient=\"records\",force_ascii=False) + '}'\n",
        "string_to_upload"
      ]
    },
    {
      "cell_type": "code",
      "execution_count": null,
      "metadata": {
        "id": "yACPpOp8qSm6"
      },
      "outputs": [],
      "source": [
        "form_update_endpoint = '/services/apexrest/skiplogicdata/v1/?objectType=PutSkipLogicData'\n",
        "if (upload_skip_logic.empty):\n",
        "    skip_logic_result = \"No Skip Logic to Upload\"\n",
        "else:\n",
        "    skip_logic_result = upload_payload_to_url(form_update_endpoint, string_to_upload)"
      ]
    },
    {
      "cell_type": "markdown",
      "metadata": {
        "id": "4AqylNU7mZ2t"
      },
      "source": [
        "# Review any errors"
      ]
    },
    {
      "cell_type": "code",
      "execution_count": null,
      "metadata": {
        "id": "quytUYLkmfHv"
      },
      "outputs": [],
      "source": [
        "form_result"
      ]
    },
    {
      "cell_type": "code",
      "execution_count": null,
      "metadata": {
        "id": "xaz8agMRme-5"
      },
      "outputs": [],
      "source": [
        "questions_result"
      ]
    },
    {
      "cell_type": "code",
      "execution_count": null,
      "metadata": {
        "id": "kPmDCsasme1P"
      },
      "outputs": [],
      "source": [
        "form_mapping_result"
      ]
    },
    {
      "cell_type": "code",
      "execution_count": null,
      "metadata": {
        "id": "259BQIZ-mesd"
      },
      "outputs": [],
      "source": [
        "orm_result"
      ]
    },
    {
      "cell_type": "code",
      "execution_count": null,
      "metadata": {
        "id": "7OZCj9pXmeYU"
      },
      "outputs": [],
      "source": [
        "# NOTE: Bug IDALMSA-12051 causes the API to return \"Skip Condition created successfully\" when the API has actually updated instead of created. Low priority to fix as this doesn't break anything.\n",
        "skip_logic_result"
      ]
    }
  ],
  "metadata": {
    "colab": {
      "provenance": []
    },
    "kernelspec": {
      "display_name": "Python 3",
      "language": "python",
      "name": "python3"
    },
    "language_info": {
      "name": "python",
      "version": "3.11.0 (main, Oct 25 2022, 14:13:24) [Clang 14.0.0 (clang-1400.0.29.202)]"
    },
    "vscode": {
      "interpreter": {
        "hash": "1a1af0ee75eeea9e2e1ee996c87e7a2b11a0bebd85af04bb136d915cefc0abce"
      }
    }
  },
  "nbformat": 4,
  "nbformat_minor": 0
}
