{
  "nbformat": 4,
  "nbformat_minor": 0,
  "metadata": {
    "colab": {
      "provenance": []
    },
    "kernelspec": {
      "name": "python3",
      "display_name": "Python 3"
    },
    "language_info": {
      "name": "python"
    }
  },
  "cells": [
    {
      "cell_type": "markdown",
      "source": [
        "# Load Multi-Lingual Excel File"
      ],
      "metadata": {
        "id": "bDFUW4z_S_rf"
      }
    },
    {
      "cell_type": "code",
      "source": [
        "import http.client\n",
        "import json\n",
        "from types import SimpleNamespace\n",
        "from urllib.parse import quote\n",
        "import pandas as pd\n",
        "import subprocess\n",
        "import os\n",
        "from google.colab import drive\n",
        "# Mount Google Drive so we can pull in files\n",
        "drive.mount('/content/drive')\n",
        "pd.set_option('display.max_colwidth', None)\n",
        "!pip install xlsxwriter"
      ],
      "metadata": {
        "id": "aU6e15-OHiJA"
      },
      "execution_count": null,
      "outputs": []
    },
    {
      "cell_type": "code",
      "source": [
        "# Setup some directory names (helps to keep work separate)\n",
        "workingDirectory = '/content/drive/MyDrive/GD API/'\n",
        "fileName = 'test-download-multi-language.xlsx'"
      ],
      "metadata": {
        "id": "dnzDPFMbJq1G"
      },
      "execution_count": null,
      "outputs": []
    },
    {
      "cell_type": "markdown",
      "source": [
        "# Get Sheet Data"
      ],
      "metadata": {
        "id": "qm353iB9TE6M"
      }
    },
    {
      "cell_type": "code",
      "source": [
        "# Read excel file into dataframes\n",
        "xls = pd.ExcelFile(workingDirectory + fileName)\n",
        "upload_form_dataframe = pd.read_excel(xls, 'Forms',header=1)\n",
        "upload_questions_without_options = pd.read_excel(xls, 'Questions', header=1)\n",
        "upload_options = pd.read_excel(xls, 'Options', header=1)\n",
        "upload_question_mapping = pd.read_excel(xls, 'Question_Mappings', header=1)\n",
        "upload_field_mapping_no_question_mapping = pd.read_excel(xls, 'Field_Mappings', header=1)\n",
        "upload_skip_logic = pd.read_excel(xls, 'Skip_Logic', header=1)\n",
        "upload_orm = pd.read_excel(xls, 'Object_Relationship_Mappings', header=1)"
      ],
      "metadata": {
        "id": "cmPn4nKKP8eR"
      },
      "execution_count": null,
      "outputs": []
    },
    {
      "cell_type": "code",
      "source": [
        "languages_in_use = []\n",
        "\n",
        "for column_name in upload_form_dataframe.columns:\n",
        "    if ('::' in column_name):\n",
        "        language_name = column_name.split('::')[-1]\n",
        "        if not language_name in languages_in_use:\n",
        "            languages_in_use.append(language_name)"
      ],
      "metadata": {
        "id": "lLDXXkGUUkEJ"
      },
      "execution_count": null,
      "outputs": []
    },
    {
      "cell_type": "code",
      "source": [
        "def reformat_dataframe_to_single_language(original_dataframe, language_to_use):\n",
        "        new_dataframe = pd.DataFrame()\n",
        "        for column_name in original_dataframe.columns:\n",
        "              if ('::' in column_name):\n",
        "                  language_name = column_name.split('::')[-1]\n",
        "                  column_name_without_language = column_name.split('::')[0]\n",
        "                  if (language_name == language_to_use):\n",
        "                        new_dataframe[column_name_without_language] = original_dataframe[column_name]\n",
        "              elif 'taroId' in column_name:\n",
        "                  new_dataframe[column_name] = original_dataframe[column_name] + '::' + language_to_use\n",
        "              elif 'Unnamed: 0' not in column_name:\n",
        "                  # This column does not have '::', so is not language-specific\n",
        "                  new_dataframe[column_name] = original_dataframe[column_name]\n",
        "        return new_dataframe"
      ],
      "metadata": {
        "id": "o4jsf5m5ZapD"
      },
      "execution_count": null,
      "outputs": []
    },
    {
      "cell_type": "code",
      "source": [
        "def write_all_to_excel(excel_name, form_dataframe, question_dataframe, option_dataframe, question_mapping_dataframe, field_mapping_dataframe, skip_logic_dataframe, orm_dataframe):\n",
        "      writer = pd.ExcelWriter(workingDirectory + excel_name ,engine='xlsxwriter')\n",
        "      workbook=writer.book\n",
        "      form_dataframe.to_excel(writer,sheet_name='Forms',startrow=1 , startcol=0)\n",
        "      question_dataframe.to_excel(writer,sheet_name='Questions',startrow=1 , startcol=0)\n",
        "      option_dataframe.to_excel(writer,sheet_name='Options',startrow=1 , startcol=0)\n",
        "      question_mapping_dataframe.to_excel(writer,sheet_name='Question_Mappings',startrow=1 , startcol=0)\n",
        "      field_mapping_dataframe.to_excel(writer,sheet_name='Field_Mappings',startrow=1 , startcol=0)\n",
        "      skip_logic_dataframe.to_excel(writer,sheet_name='Skip_Logic',startrow=1 , startcol=0)\n",
        "      orm_dataframe.to_excel(writer,sheet_name='Object_Relationship_Mappings',startrow=1 , startcol=0)\n",
        "      writer.save()"
      ],
      "metadata": {
        "id": "FjD_9Im9WpPN"
      },
      "execution_count": null,
      "outputs": []
    },
    {
      "cell_type": "code",
      "source": [
        "for language in languages_in_use:\n",
        "    form_name = upload_form_dataframe['name::' + language][0]\n",
        "    new_form_df = reformat_dataframe_to_single_language(upload_form_dataframe,language)\n",
        "    # When working with a new form, set the change log to 0\n",
        "    new_form_df['changeLog'] = 0\n",
        "    new_form_df['taroId'] = form_name\n",
        "    new_question_df = reformat_dataframe_to_single_language(upload_questions_without_options,language)\n",
        "    new_options_df = reformat_dataframe_to_single_language(upload_options,language) \n",
        "    new_question_mapping_df = reformat_dataframe_to_single_language(upload_question_mapping,language) \n",
        "    new_field_mapping_df = reformat_dataframe_to_single_language(upload_field_mapping_no_question_mapping,language) \n",
        "    new_skip_logic_df = reformat_dataframe_to_single_language(upload_skip_logic,language) \n",
        "    new_orm_df = reformat_dataframe_to_single_language(upload_orm,language)\n",
        "    write_all_to_excel(form_name,new_form_df,new_question_df,new_options_df,new_question_mapping_df,new_field_mapping_df,new_skip_logic_df,new_orm_df)"
      ],
      "metadata": {
        "id": "j3WEs7ThVmME"
      },
      "execution_count": null,
      "outputs": []
    }
  ]
}